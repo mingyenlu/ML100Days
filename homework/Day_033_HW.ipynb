{
 "cells": [
  {
   "cell_type": "code",
   "execution_count": 1,
   "metadata": {},
   "outputs": [],
   "source": [
    "#泛化（generalize）:模型對未知資料的預測能力\n",
    "#沒有良好泛化能力代表模型只對順練資料有良好預測能力\n",
    "#使用validation 資料集達到良好泛化效果，不讓model過度overfitting\n"
   ]
  },
  {
   "cell_type": "code",
   "execution_count": 2,
   "metadata": {},
   "outputs": [],
   "source": [
    "#回歸問題（均方誤差(Mean square error，MSE)和平均絕對值誤差(Mean absolute error，MAE)）\n",
    "#分類問題（交叉熵(cross-entropy)）"
   ]
  },
  {
   "cell_type": "code",
   "execution_count": null,
   "metadata": {},
   "outputs": [],
   "source": []
  }
 ],
 "metadata": {
  "kernelspec": {
   "display_name": "Python 3",
   "language": "python",
   "name": "python3"
  },
  "language_info": {
   "codemirror_mode": {
    "name": "ipython",
    "version": 3
   },
   "file_extension": ".py",
   "mimetype": "text/x-python",
   "name": "python",
   "nbconvert_exporter": "python",
   "pygments_lexer": "ipython3",
   "version": "3.7.6"
  }
 },
 "nbformat": 4,
 "nbformat_minor": 4
}
